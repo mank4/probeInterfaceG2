{
 "cells": [
  {
   "cell_type": "code",
   "execution_count": 1,
   "id": "2f938e82-f7d6-4c22-bbe5-00192deb12f0",
   "metadata": {},
   "outputs": [
    {
     "name": "stdout",
     "output_type": "stream",
     "text": [
      "LTE,probeInterface,G2,dev\n",
      "\n",
      "0\n",
      "5.0\n",
      "[1 2 3 4]\n"
     ]
    }
   ],
   "source": [
    "import os\n",
    "import sys\n",
    "sys.path.append('pylabte')\n",
    "import matplotlib.pyplot as plt\n",
    "import time\n",
    "import numpy as np\n",
    "\n",
    "from pylabte.Probe.LTEProbeInterfaceG2 import *\n",
    "\n",
    "#import pyvisa\n",
    "#rm = pyvisa.ResourceManager()\n",
    "#reslist = rm.list_resources(\"USB?::0x16C0::?*::INSTR\")\n",
    "#print(reslist)\n",
    "\n",
    "probe = LTEProbeInterfaceG2()\n",
    "print(probe.idn())\n",
    "\n",
    "testvar = False\n",
    "print(str(int(testvar)))\n",
    "\n",
    "probe.io_level_set(1.2)\n",
    "\n",
    "probe.spi_baudrate_set(5)\n",
    "print(probe.spi_baudrate_get())\n",
    "\n",
    "probe.io_function(1,\"CS\")\n",
    "probe.io_function(3,\"SCK\")\n",
    "probe.io_function(5,\"MISO\")\n",
    "probe.io_function(7,\"MOSI\")\n",
    "\n",
    "probe.io_enable(1,True)\n",
    "probe.io_enable(3,True)\n",
    "probe.io_enable(5,True)\n",
    "probe.io_enable(7,True)\n",
    "\n",
    "data = np.array([1, 2, 3, 4])\n",
    "resp = probe.spi_transfer(data)\n",
    "print(resp)\n",
    "\n",
    "probe.reset()"
   ]
  },
  {
   "cell_type": "code",
   "execution_count": null,
   "id": "0148aea8-8103-40d5-a177-91ed0a43333b",
   "metadata": {},
   "outputs": [],
   "source": []
  }
 ],
 "metadata": {
  "kernelspec": {
   "display_name": "Python 3 (ipykernel)",
   "language": "python",
   "name": "python3"
  },
  "language_info": {
   "codemirror_mode": {
    "name": "ipython",
    "version": 3
   },
   "file_extension": ".py",
   "mimetype": "text/x-python",
   "name": "python",
   "nbconvert_exporter": "python",
   "pygments_lexer": "ipython3",
   "version": "3.11.0"
  }
 },
 "nbformat": 4,
 "nbformat_minor": 5
}
